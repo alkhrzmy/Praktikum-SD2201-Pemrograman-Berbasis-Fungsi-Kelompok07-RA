{
  "nbformat": 4,
  "nbformat_minor": 0,
  "metadata": {
    "colab": {
      "provenance": []
    },
    "kernelspec": {
      "name": "python3",
      "display_name": "Python 3"
    },
    "language_info": {
      "name": "python"
    }
  },
  "cells": [
    {
      "cell_type": "markdown",
      "source": [
        "# Import dataset"
      ],
      "metadata": {
        "id": "WOQiLb3cCBxk"
      }
    },
    {
      "cell_type": "code",
      "execution_count": 1,
      "metadata": {
        "id": "WnrUarMGJAHV"
      },
      "outputs": [],
      "source": [
        "import pandas as pd"
      ]
    },
    {
      "cell_type": "code",
      "source": [
        "import pandas as pd\n",
        "import json\n",
        "from functools import reduce\n",
        "import numpy as np\n",
        "df = pd.read_csv('/content/911_Calls_for_Service_(Last_30_Days).csv')\n",
        "df = df.dropna(subset=['zip_code', 'neighborhood'])\n",
        "data = df.to_dict('records')"
      ],
      "metadata": {
        "id": "HLTCJY22MFRp"
      },
      "execution_count": 3,
      "outputs": []
    },
    {
      "cell_type": "markdown",
      "source": [
        "# Bagian 1 Model Populasi Polisi Detroit"
      ],
      "metadata": {
        "id": "G-A9sZHZB9gK"
      }
    },
    {
      "cell_type": "code",
      "source": [
        "\n",
        "list_dict_output = [x for x in data if x[\"zip_code\"] and x[\"neighborhood\"] and x[\"totalresponsetime\"] and x[\"time_on_scene\"] and x[\"totaltime\"]]\n",
        "\n",
        "total_response_time = sum(x.get(\"totalresponsetime\", 0) for x in list_dict_output) / len(list_dict_output)\n",
        "delivery_time = sum(int(x.get(\"time_on_scene\", 0)) if not np.isnan(x.get(\"time_on_scene\", 0)) else 0 for x in list_dict_output) / len(list_dict_output)\n",
        "total_time = sum(int(x.get(\"totaltime\", 0)) if not np.isnan(x.get(\"totaltime\", 0)) else 0 for x in list_dict_output) / len(list_dict_output)\n",
        "\n",
        "print(\"Total Response Time Average: \", total_response_time)\n",
        "print(\"Delivery Time Average: \", delivery_time)\n",
        "print(\"Total Time Average: \", total_time)"
      ],
      "metadata": {
        "colab": {
          "base_uri": "https://localhost:8080/"
        },
        "id": "WtJCDzrfAONp",
        "outputId": "ad0d9a99-1d31-45ff-d159-339c4b1b238c"
      },
      "execution_count": 4,
      "outputs": [
        {
          "output_type": "stream",
          "name": "stdout",
          "text": [
            "Total Response Time Average:  nan\n",
            "Delivery Time Average:  32.57122807017544\n",
            "Total Time Average:  55.91649122807018\n"
          ]
        }
      ]
    },
    {
      "cell_type": "markdown",
      "source": [
        "# Modelkan Neighborhood Samples"
      ],
      "metadata": {
        "id": "64uDofExCEjx"
      }
    },
    {
      "cell_type": "code",
      "source": [
        "neighborhoods = list(set(map(lambda x: x[\"neighborhood\"], data)))\n",
        "dictNeighbor = {}\n",
        "for neighborhood in neighborhoods:\n",
        "    dictNeighbor[neighborhood] = list(filter(lambda x: x[\"neighborhood\"] == neighborhood, data))\n",
        "\n",
        "for neighborhood in dictNeighbor:\n",
        "    dictNeighbor[neighborhood] = {\n",
        "        \"total_response_time\": reduce(lambda x, y: x + y,map(lambda x: x.get(\"totalresponsetime\", 0),dictNeighbor[neighborhood]))\n",
        "        / len(dictNeighbor[neighborhood]),\n",
        "        \"delivery_time\": reduce(lambda x, y: x + y,map(lambda x: int(x.get(\"time_on_scene\", 0)) if not np.isnan(x.get(\"time_on_scene\", 0)) else 0,dictNeighbor[neighborhood]))\n",
        "        / len(dictNeighbor[neighborhood]),\n",
        "        \"total_time\": reduce(lambda x, y: x + y,map(lambda x: int(x.get(\"totaltime\", 0)) if not np.isnan(x.get(\"totaltime\", 0)) else 0,dictNeighbor[neighborhood]))\n",
        "        / len(dictNeighbor[neighborhood]),\n",
        "    }\n",
        "\n",
        "dictNeighbor[\"All Detroit\"] = {\n",
        "    \"total_response_time\": total_response_time,\n",
        "    \"delivery_time\": delivery_time,\n",
        "    \"total_time\": total_time,\n",
        "}\n",
        "\n",
        "dictNeighbor[\"All Detroit\"]"
      ],
      "metadata": {
        "id": "QUUOKjdLA5pH",
        "colab": {
          "base_uri": "https://localhost:8080/"
        },
        "outputId": "2403ba1c-0426-4700-885d-fe3fe8fb118f"
      },
      "execution_count": 5,
      "outputs": [
        {
          "output_type": "execute_result",
          "data": {
            "text/plain": [
              "{'total_response_time': nan,\n",
              " 'delivery_time': 32.57122807017544,\n",
              " 'total_time': 55.91649122807018}"
            ]
          },
          "metadata": {},
          "execution_count": 5
        }
      ]
    },
    {
      "cell_type": "markdown",
      "source": [
        "# Output JSON"
      ],
      "metadata": {
        "id": "G_Hs42AtCGQ-"
      }
    },
    {
      "cell_type": "code",
      "source": [
        "\n",
        "with open(\"DataPopulasiDetroit.json\", \"w\") as outfile:\n",
        "    json.dump(list(dictNeighbor.values()), outfile)"
      ],
      "metadata": {
        "id": "yZdHst3cANKF"
      },
      "execution_count": 7,
      "outputs": []
    }
  ]
}