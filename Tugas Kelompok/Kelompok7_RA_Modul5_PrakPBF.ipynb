{
  "nbformat": 4,
  "nbformat_minor": 0,
  "metadata": {
    "colab": {
      "provenance": []
    },
    "kernelspec": {
      "name": "python3",
      "display_name": "Python 3"
    },
    "language_info": {
      "name": "python"
    }
  },
  "cells": [
    {
      "cell_type": "markdown",
      "source": [
        "Kelompok 7 RA\n",
        "\n",
        "Tessa Sagala Kania 122450040\n",
        "Renisha Putri Giani 12245079\n",
        "Rian Bintang Wijaya 122450094\n",
        "Gymnastiar Al Khoarizmy 122450096\n",
        "Virdio Samuel Saragih 122450124"
      ],
      "metadata": {
        "id": "PqxbMliven3U"
      }
    },
    {
      "cell_type": "code",
      "execution_count": null,
      "metadata": {
        "colab": {
          "base_uri": "https://localhost:8080/"
        },
        "id": "cII8YGHE6DaE",
        "outputId": "23501a18-9b90-4d5e-86a9-77a74b75d66a"
      },
      "outputs": [
        {
          "output_type": "stream",
          "name": "stdout",
          "text": [
            "===== Crypto Exchange =====\n",
            "Masukkan Jumlah BTC = 2\n",
            "Harga 1 BTC = Rp 1.046.020.691.00\n",
            "2.0 BTC setara dengan Rp 2.092.041.382.00\n",
            "-=-=-=-=-=-=-=-=\n",
            "Masukkan Jumlah ETH = 4\n",
            "Harga 1 ETH = Rp 51.161.638.00\n",
            "4.0 ETH setara dengan Rp 204.646.552.00\n"
          ]
        }
      ],
      "source": [
        "def format_rupiah(n):\n",
        "    return \"Rp {:,.2f}\".format(n).replace(\",\", \".\")\n",
        "\n",
        "def konversiCrypto(rate):\n",
        "    def decorator(func):\n",
        "        def wrapper(jumlah):\n",
        "            hasil = func(jumlah) * rate\n",
        "            return hasil\n",
        "        return wrapper\n",
        "    return decorator\n",
        "\n",
        "# data tanggal 26/04/2024 9:51 WIB\n",
        "rate_btc = 1046020691\n",
        "rate_eth = 51161638\n",
        "\n",
        "@konversiCrypto(rate=rate_btc)\n",
        "def BtcKeRupiah(jumlahBtc):\n",
        "    print(f\"Harga 1 BTC = {format_rupiah(rate_btc)}\")\n",
        "    return jumlahBtc\n",
        "\n",
        "@konversiCrypto(rate=rate_eth)\n",
        "def EthKeRupiah(jumlahEth):\n",
        "    print(f\"Harga 1 ETH = {format_rupiah(rate_eth)}\")\n",
        "    return jumlahEth\n",
        "\n",
        "print(\"===== Crypto Exchange =====\")\n",
        "jumlahBtc = float(input(\"Masukkan Jumlah BTC = \"))\n",
        "rupiah_btc = BtcKeRupiah(jumlahBtc)\n",
        "print(f\"{jumlahBtc} BTC setara dengan {format_rupiah(rupiah_btc)}\")\n",
        "print('-=-=-=-=-=-=-=-=')\n",
        "jumlahEth = float(input(\"Masukkan Jumlah ETH = \"))\n",
        "rupiah_eth = EthKeRupiah(jumlahEth)\n",
        "print(f\"{jumlahEth} ETH setara dengan {format_rupiah(rupiah_eth)}\")"
      ]
    }
  ]
}