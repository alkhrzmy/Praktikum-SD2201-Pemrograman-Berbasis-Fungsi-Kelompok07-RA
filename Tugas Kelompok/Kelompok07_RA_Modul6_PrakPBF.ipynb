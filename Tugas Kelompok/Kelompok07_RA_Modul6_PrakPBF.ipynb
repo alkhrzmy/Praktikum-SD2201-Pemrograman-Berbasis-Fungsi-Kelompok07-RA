{
  "nbformat": 4,
  "nbformat_minor": 0,
  "metadata": {
    "colab": {
      "provenance": []
    },
    "kernelspec": {
      "name": "python3",
      "display_name": "Python 3"
    },
    "language_info": {
      "name": "python"
    }
  },
  "cells": [
    {
      "cell_type": "code",
      "execution_count": null,
      "metadata": {
        "id": "Vzg_6xHqbvdx",
        "colab": {
          "base_uri": "https://localhost:8080/"
        },
        "outputId": "eb731948-8eb9-409c-f6ff-533edb064622"
      },
      "outputs": [
        {
          "output_type": "stream",
          "name": "stdout",
          "text": [
            "DATA TV\n",
            "Kategori: politik\n",
            "Hasil pencarian kategori: politik\n",
            "3 berita ditemukan\n",
            "=======\n",
            "Momen Jokowi dan Menteri Basuki Santap Mie Gacoan, Mentok \"Kepedasan\" di Level 2 \n",
            "https://nasional.kompas.com/read/2024/05/01/18050921/momen-jokowi-dan-menteri-basuki-santap-mie-gacoan-mentok-kepedasan-di-level?page=all\n",
            "----\n",
            "Perubahan Geopolitik di Timur Tengah Pasca Pernyataan Trump\n",
            "https://nasional.kompas.com/read/2024/05/01/18050921/momen-jokowi-dan-menteri-basuki-santap-mie-gacoan-mentok-kepedasan-di-level?page=all\n",
            "----\n",
            "Khawatir Jadi Komoditas Politik di Pilkada, Ombudsman Usul CASN Ditunda\n",
            "https://www.kompas.id/baca/polhuk/2024/05/02/khawatir-jadi-komoditas-politik-ombudsman-ri-usul-casn-ditunda-setelah-pilkada?open_from=Terbaru_Page\n",
            "----\n"
          ]
        }
      ],
      "source": [
        "def berita():\n",
        "    return [{\n",
        "        \"judul\": \"Momen Jokowi dan Menteri Basuki Santap Mie Gacoan, Mentok \\\"Kepedasan\\\" di Level 2 \",\n",
        "        \"url\": \"https://nasional.kompas.com/read/2024/05/01/18050921/momen-jokowi-dan-menteri-basuki-santap-mie-gacoan-mentok-kepedasan-di-level?page=all\",\n",
        "        \"kategori\": \"politik\",\n",
        "    }, {\n",
        "        \"judul\": \"Bangun Jejaring dengan Media Nasional, Humas ITERA Media Visit ke Harian Kompas\",\n",
        "        \"url\": \"https://www.itera.ac.id/bangun-jejaring-dengan-media-nasional-humas-itera-media-visit-ke-harian-kompas/\",\n",
        "        \"kategori\": \"pendidikan\",\n",
        "    }, {\n",
        "        \"judul\": \"Penyakit Mulut dan Kuku di Indonesia: Apakah Daging dan Susu Masih Aman Dikonsumsi?\",\n",
        "        \"url\": \"https://warstek.com/penyakit-mulut-dan-kuku/\",\n",
        "        \"kategori\": \"kesehatan\",\n",
        "    }, {\n",
        "        \"judul\": \"Perubahan Geopolitik di Timur Tengah Pasca Pernyataan Trump\",\n",
        "        \"url\": \"https://nasional.kompas.com/read/2024/05/01/18050921/momen-jokowi-dan-menteri-basuki-santap-mie-gacoan-mentok-kepedasan-di-level?page=all\",\n",
        "        \"kategori\": \"politik\",\n",
        "    }, {\n",
        "        \"judul\": \"Khawatir Jadi Komoditas Politik di Pilkada, Ombudsman Usul CASN Ditunda\",\n",
        "        \"url\": \"https://www.kompas.id/baca/polhuk/2024/05/02/khawatir-jadi-komoditas-politik-ombudsman-ri-usul-casn-ditunda-setelah-pilkada?open_from=Terbaru_Page\",\n",
        "        \"kategori\": \"politik\",\n",
        "    }]\n",
        "\n",
        "def cariBerita(berita, kategori):\n",
        "    return list(filter(lambda data: data[\"kategori\"].lower() == kategori.lower(), berita))\n",
        "\n",
        "def prosesBerita(func, kategori):\n",
        "    return func(berita(), kategori)\n",
        "\n",
        "print(\"DATA TV\")\n",
        "namaKategori = input(\"Kategori: \")\n",
        "filterNews = prosesBerita(cariBerita, kategori=namaKategori)\n",
        "print(\"Hasil pencarian kategori:\", namaKategori)\n",
        "if len(filterNews) == 0:\n",
        "    print(\"TIDAK ADA BERITA\")\n",
        "else:\n",
        "    print(len(filterNews), 'berita ditemukan')\n",
        "\n",
        "print(\"=======\")\n",
        "for news in filterNews:\n",
        "    print(news[\"judul\"])\n",
        "    print(news[\"url\"])\n",
        "    print('----')\n"
      ]
    }
  ]
}